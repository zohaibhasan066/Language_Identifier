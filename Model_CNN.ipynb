{
  "nbformat": 4,
  "nbformat_minor": 0,
  "metadata": {
    "colab": {
      "provenance": [],
      "authorship_tag": "ABX9TyO8QerihazIvehjGFpjgCjx",
      "include_colab_link": true
    },
    "kernelspec": {
      "name": "python3",
      "display_name": "Python 3"
    },
    "language_info": {
      "name": "python"
    }
  },
  "cells": [
    {
      "cell_type": "markdown",
      "metadata": {
        "id": "view-in-github",
        "colab_type": "text"
      },
      "source": [
        "<a href=\"https://colab.research.google.com/github/zohaibhasan066/Language_Identifier/blob/main/Model_CNN.ipynb\" target=\"_parent\"><img src=\"https://colab.research.google.com/assets/colab-badge.svg\" alt=\"Open In Colab\"/></a>"
      ]
    },
    {
      "cell_type": "code",
      "execution_count": 7,
      "metadata": {
        "colab": {
          "base_uri": "https://localhost:8080/"
        },
        "id": "5Oad99DZTUpt",
        "outputId": "6d8e4c0d-b879-4694-d840-4c65e5b4ec19"
      },
      "outputs": [
        {
          "output_type": "stream",
          "name": "stdout",
          "text": [
            "Bismillah                 Alhumdulillah                       Mashallah\n"
          ]
        }
      ],
      "source": [
        "print (\"Bismillah                 Alhumdulillah                       Mashallah\")\n"
      ]
    },
    {
      "cell_type": "code",
      "source": [
        "import os\n",
        "import librosa\n",
        "import numpy as np\n",
        "from sklearn.model_selection import train_test_split"
      ],
      "metadata": {
        "id": "1L8tmUYzTnfa"
      },
      "execution_count": 2,
      "outputs": []
    },
    {
      "cell_type": "code",
      "source": [
        "def extract_features(audio_file):\n",
        "  \"\"\"Extracts MFCC features from an audio file.\"\"\"\n",
        "  y, sr = librosa.load(audio_file)\n",
        "  mfccs = librosa.feature.mfcc(y=y, sr=sr, n_mfcc=40)\n",
        "  return mfccs\n",
        "print (\"Successfull\")"
      ],
      "metadata": {
        "colab": {
          "base_uri": "https://localhost:8080/"
        },
        "id": "LBysREYh00Xh",
        "outputId": "3fcd096a-1c97-4384-9d5f-afaed28ad9b6"
      },
      "execution_count": 6,
      "outputs": [
        {
          "output_type": "stream",
          "name": "stdout",
          "text": [
            "Successfull\n"
          ]
        }
      ]
    },
    {
      "cell_type": "code",
      "source": [
        "def preprocess_dataset(data_dir, languages, test_size=0.2):\n",
        "  \"\"\"Preprocesses the Common Voice dataset.\"\"\"\n",
        "\n",
        "  # Create empty lists to store features and labels\n",
        "  X = []\n",
        "  y = []\n",
        "\n",
        "  # Iterate over each language\n",
        "  for language in languages:\n",
        "    # Removed extra 'language' from the path\n",
        "    language_dir = os.path.join(data_dir) # Fixed path construction\n",
        "    for filename in os.listdir(language_dir):\n",
        "      audio_file = os.path.join(language_dir, filename)\n",
        "      mfccs = extract_features(audio_file)\n",
        "      X.append(mfccs.T)\n",
        "      y.append(language)\n",
        "\n",
        "  # Convert to numpy arrays\n",
        "  X = np.array(X)\n",
        "  y = np.array(y)\n",
        "\n",
        "  # Split into training and testing sets\n",
        "  X_train, X_test, y_train, y_test = train_test_split(X, y, test_size=test_size, random_state=42)\n",
        "\n",
        "  return X_train, X_test, y_train, y_test # Return the split datasets"
      ],
      "metadata": {
        "id": "3GpfyGTm039t"
      },
      "execution_count": 22,
      "outputs": []
    },
    {
      "cell_type": "code",
      "source": [
        "# Example usage:\n",
        "data_dir = r'C:\\Users\\DELL\\Downloads\\cv-corpus-18.0-2024-06-14-ko\\cv-corpus-18.0-2024-06-14\\ko'\n",
        "languages = ['ko']  # Replace with your desired languages\n",
        "\n",
        "X_train, X_test, y_train, y_test = preprocess_dataset(data_dir, languages)"
      ],
      "metadata": {
        "colab": {
          "base_uri": "https://localhost:8080/",
          "height": 327
        },
        "id": "IZrjeoGj6_pN",
        "outputId": "9c606847-9c91-48f7-9791-93862d34b1f4"
      },
      "execution_count": 23,
      "outputs": [
        {
          "output_type": "error",
          "ename": "FileNotFoundError",
          "evalue": "[Errno 2] No such file or directory: 'C:\\\\Users\\\\DELL\\\\Downloads\\\\cv-corpus-18.0-2024-06-14-ko\\\\cv-corpus-18.0-2024-06-14\\\\ko'",
          "traceback": [
            "\u001b[0;31m---------------------------------------------------------------------------\u001b[0m",
            "\u001b[0;31mFileNotFoundError\u001b[0m                         Traceback (most recent call last)",
            "\u001b[0;32m<ipython-input-23-2a681875155e>\u001b[0m in \u001b[0;36m<cell line: 5>\u001b[0;34m()\u001b[0m\n\u001b[1;32m      3\u001b[0m \u001b[0mlanguages\u001b[0m \u001b[0;34m=\u001b[0m \u001b[0;34m[\u001b[0m\u001b[0;34m'ko'\u001b[0m\u001b[0;34m]\u001b[0m  \u001b[0;31m# Replace with your desired languages\u001b[0m\u001b[0;34m\u001b[0m\u001b[0;34m\u001b[0m\u001b[0m\n\u001b[1;32m      4\u001b[0m \u001b[0;34m\u001b[0m\u001b[0m\n\u001b[0;32m----> 5\u001b[0;31m \u001b[0mX_train\u001b[0m\u001b[0;34m,\u001b[0m \u001b[0mX_test\u001b[0m\u001b[0;34m,\u001b[0m \u001b[0my_train\u001b[0m\u001b[0;34m,\u001b[0m \u001b[0my_test\u001b[0m \u001b[0;34m=\u001b[0m \u001b[0mpreprocess_dataset\u001b[0m\u001b[0;34m(\u001b[0m\u001b[0mdata_dir\u001b[0m\u001b[0;34m,\u001b[0m \u001b[0mlanguages\u001b[0m\u001b[0;34m)\u001b[0m\u001b[0;34m\u001b[0m\u001b[0;34m\u001b[0m\u001b[0m\n\u001b[0m",
            "\u001b[0;32m<ipython-input-22-227baf7be6f6>\u001b[0m in \u001b[0;36mpreprocess_dataset\u001b[0;34m(data_dir, languages, test_size)\u001b[0m\n\u001b[1;32m     10\u001b[0m     \u001b[0;31m# Removed extra 'language' from the path\u001b[0m\u001b[0;34m\u001b[0m\u001b[0;34m\u001b[0m\u001b[0m\n\u001b[1;32m     11\u001b[0m     \u001b[0mlanguage_dir\u001b[0m \u001b[0;34m=\u001b[0m \u001b[0mos\u001b[0m\u001b[0;34m.\u001b[0m\u001b[0mpath\u001b[0m\u001b[0;34m.\u001b[0m\u001b[0mjoin\u001b[0m\u001b[0;34m(\u001b[0m\u001b[0mdata_dir\u001b[0m\u001b[0;34m)\u001b[0m \u001b[0;31m# Fixed path construction\u001b[0m\u001b[0;34m\u001b[0m\u001b[0;34m\u001b[0m\u001b[0m\n\u001b[0;32m---> 12\u001b[0;31m     \u001b[0;32mfor\u001b[0m \u001b[0mfilename\u001b[0m \u001b[0;32min\u001b[0m \u001b[0mos\u001b[0m\u001b[0;34m.\u001b[0m\u001b[0mlistdir\u001b[0m\u001b[0;34m(\u001b[0m\u001b[0mlanguage_dir\u001b[0m\u001b[0;34m)\u001b[0m\u001b[0;34m:\u001b[0m\u001b[0;34m\u001b[0m\u001b[0;34m\u001b[0m\u001b[0m\n\u001b[0m\u001b[1;32m     13\u001b[0m       \u001b[0maudio_file\u001b[0m \u001b[0;34m=\u001b[0m \u001b[0mos\u001b[0m\u001b[0;34m.\u001b[0m\u001b[0mpath\u001b[0m\u001b[0;34m.\u001b[0m\u001b[0mjoin\u001b[0m\u001b[0;34m(\u001b[0m\u001b[0mlanguage_dir\u001b[0m\u001b[0;34m,\u001b[0m \u001b[0mfilename\u001b[0m\u001b[0;34m)\u001b[0m\u001b[0;34m\u001b[0m\u001b[0;34m\u001b[0m\u001b[0m\n\u001b[1;32m     14\u001b[0m       \u001b[0mmfccs\u001b[0m \u001b[0;34m=\u001b[0m \u001b[0mextract_features\u001b[0m\u001b[0;34m(\u001b[0m\u001b[0maudio_file\u001b[0m\u001b[0;34m)\u001b[0m\u001b[0;34m\u001b[0m\u001b[0;34m\u001b[0m\u001b[0m\n",
            "\u001b[0;31mFileNotFoundError\u001b[0m: [Errno 2] No such file or directory: 'C:\\\\Users\\\\DELL\\\\Downloads\\\\cv-corpus-18.0-2024-06-14-ko\\\\cv-corpus-18.0-2024-06-14\\\\ko'"
          ]
        }
      ]
    }
  ]
}