{
  "nbformat": 4,
  "nbformat_minor": 0,
  "metadata": {
    "colab": {
      "provenance": [],
      "gpuType": "T4",
      "include_colab_link": true
    },
    "kernelspec": {
      "name": "python3",
      "display_name": "Python 3"
    },
    "language_info": {
      "name": "python"
    },
    "accelerator": "GPU"
  },
  "cells": [
    {
      "cell_type": "markdown",
      "metadata": {
        "id": "view-in-github",
        "colab_type": "text"
      },
      "source": [
        "<a href=\"https://colab.research.google.com/github/zohaibhasan066/Language_Identifier/blob/main/Model_CNN.ipynb\" target=\"_parent\"><img src=\"https://colab.research.google.com/assets/colab-badge.svg\" alt=\"Open In Colab\"/></a>"
      ]
    },
    {
      "cell_type": "code",
      "execution_count": null,
      "metadata": {
        "colab": {
          "base_uri": "https://localhost:8080/"
        },
        "id": "5Oad99DZTUpt",
        "outputId": "6d8e4c0d-b879-4694-d840-4c65e5b4ec19"
      },
      "outputs": [
        {
          "output_type": "stream",
          "name": "stdout",
          "text": [
            "Bismillah                 Alhumdulillah                       Mashallah\n"
          ]
        }
      ],
      "source": [
        "print (\"Bismillah                 Alhumdulillah                       Mashallah\")\n"
      ]
    },
    {
      "cell_type": "code",
      "source": [
        "import os\n",
        "import librosa\n",
        "import numpy as np\n",
        "from sklearn.model_selection import train_test_split\n",
        "import pandas as pd"
      ],
      "metadata": {
        "id": "1L8tmUYzTnfa"
      },
      "execution_count": 19,
      "outputs": []
    },
    {
      "cell_type": "code",
      "source": [
        "def extract_features(audio_file):\n",
        "  \"\"\"Extracts MFCC features from an audio file.\"\"\"\n",
        "  y, sr = librosa.load(audio_file)\n",
        "  mfccs = librosa.feature.mfcc(y=y, sr=sr, n_mfcc=40)\n",
        "  return mfccs\n",
        "print (\"Successfull\")"
      ],
      "metadata": {
        "colab": {
          "base_uri": "https://localhost:8080/"
        },
        "id": "LBysREYh00Xh",
        "outputId": "1ffcdb72-448d-4b48-a5e5-ca7572920201"
      },
      "execution_count": 14,
      "outputs": [
        {
          "output_type": "stream",
          "name": "stdout",
          "text": [
            "Successfull\n"
          ]
        }
      ]
    },
    {
      "cell_type": "code",
      "source": [
        "def preprocess_dataset(data_dir, languages, test_size=0.2):\n",
        "    \"\"\"Preprocesses the Common Voice dataset.\"\"\"\n",
        "\n",
        "    X = []\n",
        "    y = []\n",
        "\n",
        "    for language in languages:\n",
        "        language_dir = os.path.join(data_dir)  # Fixed path construction\n",
        "        for filename in os.listdir(language_dir):\n",
        "            audio_file = os.path.join(language_dir, filename)\n",
        "            mfccs = extract_features(audio_file)\n",
        "\n",
        "            # Pad or truncate MFCCs to a fixed length\n",
        "            max_length = 100  # Choose an appropriate value based on your dataset\n",
        "            if mfccs.shape[1] < max_length:\n",
        "                pad_width = max_length - mfccs.shape[1]\n",
        "                mfccs = np.pad(mfccs, pad_width=((0, 0), (0, pad_width)), mode='constant')\n",
        "            elif mfccs.shape[1] > max_length:\n",
        "              mfccs = mfccs[:, :max_length]\n",
        "\n",
        "            X.append(mfccs.T)\n",
        "            y.append(language)\n",
        "\n",
        "    # Create a DataFrame\n",
        "    df = pd.DataFrame({'features': X, 'labels': y}) # Assign the DataFrame to df\n",
        "\n",
        "    # Save the DataFrame to a CSV file (optional)\n",
        "    df.to_csv('features_and_labels.csv', index=False)\n",
        "\n",
        "    # Split into training and testing sets\n",
        "    X_train, X_test, y_train, y_test = train_test_split(X, y, test_size=test_size, random_state=42)\n",
        "\n",
        "    return X_train, X_test, y_train, y_test, df # Return the DataFrame\n",
        "\n",
        "# Get the DataFrame from the function call\n",
        "X_train, X_test, y_train, y_test, df = preprocess_dataset(data_dir, languages)\n",
        "print(df.head(10))"
      ],
      "metadata": {
        "id": "3GpfyGTm039t",
        "outputId": "8e558369-4b40-4a11-c119-c17faabd8296",
        "colab": {
          "base_uri": "https://localhost:8080/"
        }
      },
      "execution_count": 30,
      "outputs": [
        {
          "output_type": "stream",
          "name": "stdout",
          "text": [
            "                                            features labels\n",
            "0  [[-589.1446, 0.0, 0.0, 0.0, 0.0, 0.0, 0.0, 0.0...     ko\n",
            "1  [[-671.8451, -9.179798, 1.6539844, 3.447759, -...     ko\n",
            "2  [[-625.8778, 0.0, 0.0, 0.0, 0.0, 0.0, 0.0, 0.0...     ko\n",
            "3  [[-670.61255, 0.0, 0.0, 0.0, 0.0, 0.0, 0.0, 0....     ko\n",
            "4  [[-775.1026, 0.0, 0.0, 0.0, 0.0, 0.0, 0.0, 0.0...     ko\n",
            "5  [[-591.7962, 0.0, 0.0, 0.0, 0.0, 0.0, 0.0, 0.0...     ko\n",
            "6  [[-758.95465, 0.0, 0.0, 0.0, 0.0, 0.0, 0.0, 0....     ko\n",
            "7  [[-747.50214, 0.0, 0.0, 0.0, 0.0, 0.0, 0.0, 0....     ko\n",
            "8  [[-589.37244, 0.0, 0.0, 0.0, 0.0, 0.0, 0.0, 0....     ko\n",
            "9  [[-583.71075, 0.0, 0.0, 0.0, 0.0, 0.0, 0.0, 0....     ko\n"
          ]
        }
      ]
    },
    {
      "cell_type": "code",
      "source": [
        "# Example usage:\n",
        "data_dir = 'Audio_Data'\n",
        "languages = ['ko']  # Replace with your desired languages\n",
        "\n",
        "X_train, X_test, y_train, y_test, df = preprocess_dataset(data_dir, languages)\n"
      ],
      "metadata": {
        "id": "IZrjeoGj6_pN"
      },
      "execution_count": 32,
      "outputs": []
    },
    {
      "cell_type": "code",
      "source": [
        "! pwd"
      ],
      "metadata": {
        "id": "V7yGVm0lC2xt",
        "outputId": "6583808b-9247-4d89-91e1-d0661699ce5b",
        "colab": {
          "base_uri": "https://localhost:8080/"
        }
      },
      "execution_count": 1,
      "outputs": [
        {
          "output_type": "stream",
          "name": "stdout",
          "text": [
            "/content\n"
          ]
        }
      ]
    },
    {
      "cell_type": "code",
      "source": [
        "!mkdir Audio_Data"
      ],
      "metadata": {
        "id": "XqU38axHE97p"
      },
      "execution_count": 6,
      "outputs": []
    }
  ]
}